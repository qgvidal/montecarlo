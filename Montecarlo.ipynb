{
 "cells": [
  {
   "cell_type": "markdown",
   "metadata": {},
   "source": [
    "# MONTECARLO METHOD EXAMPLE"
   ]
  },
  {
   "cell_type": "markdown",
   "metadata": {},
   "source": [
    "Montecarlo method is a non-deterministic statistic method (that means, has a random component) really useful for aproximating mathematic expresions. \n",
    "\n",
    "In this notebook we will develop two different examples. In the first one we will try to solve the Seven-eleven game that is a hard analytic probability problem, but easy to solve with an experimental aproximation using Montecarlo's methods.\n",
    "\n",
    "In second example we will try to calculate the probability of, given a n-people room, two of then have their birthdays in the same day. You will see that this probability is higher than you could think. "
   ]
  },
  {
   "cell_type": "code",
   "execution_count": 11,
   "metadata": {},
   "outputs": [],
   "source": [
    "import datetime\n",
    "import random\n",
    "from collections import Counter\n",
    "from tqdm import tqdm\n",
    "import numpy as np"
   ]
  },
  {
   "cell_type": "markdown",
   "metadata": {},
   "source": [
    "### SEVEN-ELEVEN GAME"
   ]
  },
  {
   "cell_type": "markdown",
   "metadata": {},
   "source": [
    "**In each game a player rolls two dice. In the case of rolling a 7 or an 11, he wins. If you roll a 2, 3 or 12, he lose.**\n",
    "\n",
    "**If he rolls any other number, re-roll the dice as many times as it takes to make that number roll again, in which case he wins. If he rolls a 7, he loses.**"
   ]
  },
  {
   "cell_type": "markdown",
   "metadata": {},
   "source": [
    "**Who is more likely to win in the first game?**"
   ]
  },
  {
   "cell_type": "markdown",
   "metadata": {},
   "source": [
    "First step is defining the number of games:"
   ]
  },
  {
   "cell_type": "code",
   "execution_count": 12,
   "metadata": {},
   "outputs": [],
   "source": [
    "N_partidas = 1000000"
   ]
  },
  {
   "cell_type": "markdown",
   "metadata": {},
   "source": [
    "Then we will create a random roll dices function that sum the result of both:"
   ]
  },
  {
   "cell_type": "code",
   "execution_count": 13,
   "metadata": {},
   "outputs": [],
   "source": [
    "def lanzaDado():\n",
    "    dado_1 = np.random.randint(1,7)\n",
    "    dado_2 = np.random.randint(1,7)\n",
    "    return dado_1 + dado_2"
   ]
  },
  {
   "cell_type": "markdown",
   "metadata": {},
   "source": [
    "And then, we will create a function for mesuring the probability of winning, lossing and also continue playing at the end of the first roll."
   ]
  },
  {
   "cell_type": "code",
   "execution_count": 14,
   "metadata": {},
   "outputs": [
    {
     "name": "stderr",
     "output_type": "stream",
     "text": [
      "100%|██████████| 1000000/1000000 [00:08<00:00, 115511.48it/s]\n"
     ]
    }
   ],
   "source": [
    "conteoGanado = 0\n",
    "conteoPerdido = 0\n",
    "conteoContinua = 0\n",
    "    \n",
    "for i in tqdm(range(N_partidas)):\n",
    "\n",
    "    sumaDados = lanzaDado()\n",
    "    if sumaDados in [7,11]:\n",
    "        conteoGanado += 1\n",
    "    elif sumaDados in [2,3,12]:\n",
    "        conteoPerdido += 1\n",
    "    else:\n",
    "        conteoContinua += 1\n",
    "\n",
    "probVictoria = conteoGanado/(N_partidas)\n",
    "probPerder = conteoPerdido/(N_partidas)\n",
    "probContinua = conteoContinua/(N_partidas)"
   ]
  },
  {
   "cell_type": "code",
   "execution_count": 15,
   "metadata": {},
   "outputs": [
    {
     "name": "stdout",
     "output_type": "stream",
     "text": [
      "Probability of WINNING after first roll: 0.222683\n",
      "Probability of LOSING after first roll: 0.110505\n",
      "Probability of CONTINUING after first roll: 0.666812\n"
     ]
    }
   ],
   "source": [
    "print(\"Probability of WINNING after first roll: \" + str(probVictoria))\n",
    "print(\"Probability of LOSING after first roll: \" + str(probPerder))\n",
    "print(\"Probability of CONTINUING after first roll: \" + str(probContinua))"
   ]
  },
  {
   "cell_type": "markdown",
   "metadata": {},
   "source": [
    "**Is it a fair game?**"
   ]
  },
  {
   "cell_type": "markdown",
   "metadata": {},
   "source": [
    "For knowing if it is a fair game we have to end up playing the whole game. So, we will add more information to the previous code. In this case, if we get a different number than 7,11 (winning) or 2,3,12 (continue) we will enter into a while loop that will end up if we get same number as previous roll or a 7 "
   ]
  },
  {
   "cell_type": "code",
   "execution_count": 16,
   "metadata": {},
   "outputs": [
    {
     "name": "stderr",
     "output_type": "stream",
     "text": [
      "100%|██████████| 1000000/1000000 [00:26<00:00, 37275.26it/s]\n"
     ]
    }
   ],
   "source": [
    "conteoGanado = 0\n",
    "conteoPerdido = 0\n",
    "\n",
    "continua = True   \n",
    "for i in tqdm(range(N_partidas)):\n",
    "\n",
    "    sumaDados = lanzaDado()\n",
    "    if sumaDados in [7,11]:\n",
    "        conteoGanado += 1\n",
    "    elif sumaDados in [2,3,12]:\n",
    "        conteoPerdido += 1\n",
    "    else:\n",
    "        while continua:\n",
    "            sumaDados2 = lanzaDado()\n",
    "            if sumaDados2 == sumaDados:\n",
    "                conteoGanado += 1\n",
    "                break\n",
    "            elif sumaDados2 == 7:\n",
    "                conteoPerdido += 1\n",
    "                break                \n",
    "probVictoria = conteoGanado/(N_partidas)\n",
    "probPerder = conteoPerdido/(N_partidas)"
   ]
  },
  {
   "cell_type": "code",
   "execution_count": 17,
   "metadata": {},
   "outputs": [
    {
     "name": "stdout",
     "output_type": "stream",
     "text": [
      "WINNING PROB: 0.493109\n",
      "LOSING PROB: 0.506891\n"
     ]
    }
   ],
   "source": [
    "print(\"WINNING PROB: \" + str(probVictoria))\n",
    "print(\"LOSING PROB: \" + str(probPerder))"
   ]
  },
  {
   "cell_type": "markdown",
   "metadata": {},
   "source": [
    "As you can see, against all odds, this game is a fair game. So curious!!!"
   ]
  },
  {
   "cell_type": "markdown",
   "metadata": {},
   "source": [
    "### BIRTHDAY PROBABILITY"
   ]
  },
  {
   "cell_type": "markdown",
   "metadata": {},
   "source": [
    "**What is the probability than, in a room with 40 people, two of them will have their birthdays in the same day?**"
   ]
  },
  {
   "cell_type": "markdown",
   "metadata": {},
   "source": [
    "First step is defining number of people and iterations that our model simulation will take:"
   ]
  },
  {
   "cell_type": "code",
   "execution_count": 18,
   "metadata": {},
   "outputs": [],
   "source": [
    "iteraciones = 100000\n",
    "personas = 40"
   ]
  },
  {
   "cell_type": "markdown",
   "metadata": {},
   "source": [
    "Now, we will define our model, that will run over the number of iterations creating a list of n-people random dates and then will compare if, given this array, there are two (or more) repeated dates. If it happens, it will increase the counter by one. At he end of the simulation we will calculate the probability by dividing number of times we got a repeated dates by total number of iterations:"
   ]
  },
  {
   "cell_type": "code",
   "execution_count": 19,
   "metadata": {},
   "outputs": [
    {
     "name": "stderr",
     "output_type": "stream",
     "text": [
      "100%|██████████| 100000/100000 [00:11<00:00, 8680.28it/s]\n"
     ]
    }
   ],
   "source": [
    "date = datetime.date(2020, 1, 1)\n",
    "conteoProbabilidad = 0\n",
    "for x in tqdm(range(iteraciones)):\n",
    "    listado_fechas = []\n",
    "    \n",
    "    for i in range(personas):\n",
    "        fecha_aleatoria = date + datetime.timedelta(days = random.randint(0,365))\n",
    "        listado_fechas.append(fecha_aleatoria)\n",
    "    \n",
    "    \n",
    "    coincidencias = [k for k,v in Counter(listado_fechas).items() if v>1]\n",
    "    \n",
    "    if len(coincidencias) > 0:\n",
    "        conteoProbabilidad += 1"
   ]
  },
  {
   "cell_type": "code",
   "execution_count": 20,
   "metadata": {},
   "outputs": [
    {
     "name": "stdout",
     "output_type": "stream",
     "text": [
      "The probability that two people (in a room with 40 people) have their birthday in the same day is: 0.89173\n"
     ]
    }
   ],
   "source": [
    "probabilidad = conteoProbabilidad/iteraciones\n",
    "print(f\"The probability that two people (in a room with {personas} people) have their birthday in the same day is:\", probabilidad)"
   ]
  }
 ],
 "metadata": {
  "kernelspec": {
   "display_name": "Python 3",
   "language": "python",
   "name": "python3"
  },
  "language_info": {
   "codemirror_mode": {
    "name": "ipython",
    "version": 3
   },
   "file_extension": ".py",
   "mimetype": "text/x-python",
   "name": "python",
   "nbconvert_exporter": "python",
   "pygments_lexer": "ipython3",
   "version": "3.7.3"
  }
 },
 "nbformat": 4,
 "nbformat_minor": 2
}
